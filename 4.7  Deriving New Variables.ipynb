{
 "cells": [
  {
   "cell_type": "code",
   "execution_count": 6,
   "id": "14c2620e-66c5-497d-9c4f-fb350dd9555b",
   "metadata": {},
   "outputs": [],
   "source": [
    "import pandas as pd\n",
    "import os"
   ]
  },
  {
   "cell_type": "code",
   "execution_count": 7,
   "id": "d7419ed8-4c64-4310-bdf9-a66c6ec67f80",
   "metadata": {},
   "outputs": [],
   "source": [
    "path = r\"C:\\Users\\Pocah\\OneDrive\\Desktop\\bootcamp\\python\\Prepared Data\""
   ]
  },
  {
   "cell_type": "code",
   "execution_count": 8,
   "id": "c80eb517-4eae-44a3-a0f2-6373c60cee30",
   "metadata": {},
   "outputs": [],
   "source": [
    "# Load the dataframe\n",
    "df = pd.read_pickle(os.path.join(path, 'orders_products_combined.pkl'))"
   ]
  },
  {
   "cell_type": "code",
   "execution_count": 10,
   "id": "a101fec7-bfa0-4a81-b2a0-a923d762edc9",
   "metadata": {},
   "outputs": [
    {
     "name": "stdout",
     "output_type": "stream",
     "text": [
      "Index(['order_id', 'user_id', 'eval_set', 'order_number', 'order_day_of_week',\n",
      "       'order_hour_of_day', 'days_since_prior_order', 'product_id',\n",
      "       'add_to_cart_order', 'reordered', '_merge'],\n",
      "      dtype='object')\n"
     ]
    }
   ],
   "source": [
    "print(df.columns)\n"
   ]
  },
  {
   "cell_type": "code",
   "execution_count": 11,
   "id": "e5535aa2-ec0c-453c-a88d-bb6ffc728dc5",
   "metadata": {},
   "outputs": [],
   "source": [
    "#busiest days count \n",
    "busiest_days_counts = df['order_day_of_week'].value_counts()\n"
   ]
  },
  {
   "cell_type": "code",
   "execution_count": 12,
   "id": "74da70c1-8615-4119-8b69-861c1c74e74d",
   "metadata": {},
   "outputs": [],
   "source": [
    "# Identifying top 2 and bottom 2 days\n",
    "top_two = busiest_days_counts.nlargest(2).index.tolist()\n",
    "bottom_two = busiest_days_counts.nsmallest(2).index.tolist()\n"
   ]
  },
  {
   "cell_type": "code",
   "execution_count": 13,
   "id": "e57ecef4-040a-4220-af3f-1ab1fb68973f",
   "metadata": {},
   "outputs": [],
   "source": [
    "# Labeling function\n",
    "def label_busiest_days(day):\n",
    "    if day in top_two:\n",
    "        return 'Busiest days'\n",
    "    elif day in bottom_two:\n",
    "        return 'Slowest days'\n",
    "    else:\n",
    "        return 'Average days'"
   ]
  },
  {
   "cell_type": "code",
   "execution_count": 14,
   "id": "7629083a-3663-4cb5-896a-c73c912268c5",
   "metadata": {},
   "outputs": [],
   "source": [
    "df['busiest_days'] = df['order_day_of_week'].apply(label_busiest_days)"
   ]
  },
  {
   "cell_type": "code",
   "execution_count": 15,
   "id": "f9ea84a7-02f4-450e-9e66-3bd129604a3f",
   "metadata": {},
   "outputs": [
    {
     "name": "stdout",
     "output_type": "stream",
     "text": [
      "busiest_days\n",
      "Average days    12927635\n",
      "Busiest days    11875522\n",
      "Slowest days     7631332\n",
      "Name: count, dtype: int64\n"
     ]
    }
   ],
   "source": [
    "#the result\n",
    "print(df['busiest_days'].value_counts())"
   ]
  },
  {
   "cell_type": "code",
   "execution_count": null,
   "id": "8f8454b7-751f-4958-a969-22d4ae21d91e",
   "metadata": {},
   "outputs": [],
   "source": [
    "#busiest_period_of_day"
   ]
  },
  {
   "cell_type": "code",
   "execution_count": 16,
   "id": "8138d886-f4c3-4386-803a-169de63b64a2",
   "metadata": {},
   "outputs": [],
   "source": [
    "# Count number of orders per hour\n",
    "hourly_counts = df['order_hour_of_day'].value_counts()"
   ]
  },
  {
   "cell_type": "code",
   "execution_count": 17,
   "id": "54bf5f6e-f827-46cd-9400-fedc38832586",
   "metadata": {},
   "outputs": [],
   "source": [
    "# Define thresholds\n",
    "most_threshold = hourly_counts.quantile(0.75)\n",
    "fewest_threshold = hourly_counts.quantile(0.25)"
   ]
  },
  {
   "cell_type": "code",
   "execution_count": 19,
   "id": "60b4581f-7a04-4272-a72e-1ed1ffaf392c",
   "metadata": {},
   "outputs": [],
   "source": [
    "# Function to label periods\n",
    "def label_period(hour):\n",
    "    count = hourly_counts[hour]\n",
    "    if count >= most_threshold:\n",
    "        return 'Most orders'\n",
    "    elif count <= fewest_threshold:\n",
    "        return 'Fewest orders'\n",
    "    else:\n",
    "        return 'Average orders'"
   ]
  },
  {
   "cell_type": "code",
   "execution_count": 23,
   "id": "fc117e2f-5ba4-4168-8b45-8a28f2f38742",
   "metadata": {},
   "outputs": [],
   "source": [
    "# Apply function to create column\n",
    "df['busiest_period_of_day'] = df['order_hour_of_day'].apply(label_period)"
   ]
  },
  {
   "cell_type": "code",
   "execution_count": 3,
   "id": "443a42df-851a-4da3-94e5-2e9e8b4169a5",
   "metadata": {},
   "outputs": [],
   "source": [
    "import pandas as pd\n",
    "import os\n",
    "\n",
    "path = r\"C:\\Users\\Pocah\\OneDrive\\Desktop\\bootcamp\\python\\Prepared Data\"\n",
    "\n",
    "df = pd.read_pickle(os.path.join(path, 'orders_products_combined_updated.pkl'))\n"
   ]
  },
  {
   "cell_type": "code",
   "execution_count": 4,
   "id": "70c8acce-bc6e-4b99-85ee-7fced501b755",
   "metadata": {},
   "outputs": [
    {
     "name": "stdout",
     "output_type": "stream",
     "text": [
      "busiest_period_of_day\n",
      "Most orders       16143228\n",
      "Average orders    15694427\n",
      "Fewest orders       596834\n",
      "Name: count, dtype: int64\n"
     ]
    }
   ],
   "source": [
    "print(df['busiest_period_of_day'].value_counts())\n"
   ]
  },
  {
   "cell_type": "code",
   "execution_count": null,
   "id": "2a54c515-0dd0-4ae2-9091-8f6e1947a8c0",
   "metadata": {},
   "outputs": [],
   "source": [
    "# Export the Updated DataFrame"
   ]
  },
  {
   "cell_type": "code",
   "execution_count": 5,
   "id": "36e092f8-1f8b-448c-a1cb-3fb970b4c615",
   "metadata": {},
   "outputs": [],
   "source": [
    "# Export updated dataframe\n",
    "df.to_pickle(os.path.join(path, 'orders_products_combined_updated.pkl'))\n"
   ]
  },
  {
   "cell_type": "code",
   "execution_count": 6,
   "id": "3d274e01-0c6d-48b3-b314-bd4521d3f6b3",
   "metadata": {},
   "outputs": [
    {
     "ename": "SyntaxError",
     "evalue": "unexpected character after line continuation character (4260652064.py, line 1)",
     "output_type": "error",
     "traceback": [
      "\u001b[1;36m  Cell \u001b[1;32mIn[6], line 1\u001b[1;36m\u001b[0m\n\u001b[1;33m    C:\\Users\\Pocah\\OneDrive\\Desktop\\bootcamp\\python\\Prepared Data\u001b[0m\n\u001b[1;37m       ^\u001b[0m\n\u001b[1;31mSyntaxError\u001b[0m\u001b[1;31m:\u001b[0m unexpected character after line continuation character\n"
     ]
    }
   ],
   "source": [
    "C:\\Users\\Pocah\\OneDrive\\Desktop\\bootcamp\\python\\Prepared Data\n"
   ]
  },
  {
   "cell_type": "code",
   "execution_count": null,
   "id": "5fe4f945-c90b-4777-bc58-68a57f6e9cdd",
   "metadata": {},
   "outputs": [],
   "source": [
    "### Observations summery \n",
    "\n",
    "- The top 2 busiest days were labeled as **\"Busiest days\"**, the bottom 2 as **\"Slowest days\"**.\n",
    "- Hours of the day were segmented into:\n",
    "  - **\"Most orders\"** (top 25%),\n",
    "  - **\"Fewest orders\"** (bottom 25%),\n",
    "  - and **\"Average orders\"** (middle 50%).\n",
    "- These labels can help Instacart manage traffic load more effectively.\n"
   ]
  },
  {
   "cell_type": "code",
   "execution_count": null,
   "id": "5b75416c-a9e6-48e6-8887-cdad36318587",
   "metadata": {},
   "outputs": [],
   "source": []
  }
 ],
 "metadata": {
  "kernelspec": {
   "display_name": "Python [conda env:base] *",
   "language": "python",
   "name": "conda-base-py"
  },
  "language_info": {
   "codemirror_mode": {
    "name": "ipython",
    "version": 3
   },
   "file_extension": ".py",
   "mimetype": "text/x-python",
   "name": "python",
   "nbconvert_exporter": "python",
   "pygments_lexer": "ipython3",
   "version": "3.13.5"
  }
 },
 "nbformat": 4,
 "nbformat_minor": 5
}
