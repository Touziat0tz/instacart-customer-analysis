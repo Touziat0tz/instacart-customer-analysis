{
 "cells": [
  {
   "cell_type": "code",
   "execution_count": 1,
   "id": "b8ef146a-3e04-4dbf-b4d2-ebf226a55e75",
   "metadata": {},
   "outputs": [
    {
     "name": "stdout",
     "output_type": "stream",
     "text": [
      "100\n"
     ]
    }
   ],
   "source": [
    "x=50\n",
    "y=50\n",
    "print(x+y)"
   ]
  },
  {
   "cell_type": "code",
   "execution_count": 2,
   "id": "72df2b87-7cdf-4b45-b36c-f3d7913c0aa8",
   "metadata": {},
   "outputs": [
    {
     "name": "stdout",
     "output_type": "stream",
     "text": [
      "100\n"
     ]
    }
   ],
   "source": [
    "m=150\n",
    "n=50\n",
    "print(m-n)"
   ]
  },
  {
   "cell_type": "code",
   "execution_count": 3,
   "id": "20135d7c-448d-4c8a-b37a-9ace8aa5d2c2",
   "metadata": {},
   "outputs": [
    {
     "name": "stdout",
     "output_type": "stream",
     "text": [
      "100\n"
     ]
    }
   ],
   "source": [
    "R=70\n",
    "T=30\n",
    "print(R+T)"
   ]
  },
  {
   "cell_type": "code",
   "execution_count": 13,
   "id": "3c7c7cfd-1538-4847-aa2e-c726f072408e",
   "metadata": {},
   "outputs": [],
   "source": [
    "del print\n"
   ]
  },
  {
   "cell_type": "code",
   "execution_count": 14,
   "id": "6cbb0c63-055a-4607-86e5-bcab3cf272bb",
   "metadata": {},
   "outputs": [
    {
     "name": "stdout",
     "output_type": "stream",
     "text": [
      "5.0\n"
     ]
    }
   ],
   "source": [
    "num1 = 22.5\n",
    "num2 = 4.5\n",
    "print(num1 / num2)\n"
   ]
  },
  {
   "cell_type": "code",
   "execution_count": 15,
   "id": "49e0f654-4f61-43fb-a58f-e04093363abf",
   "metadata": {},
   "outputs": [
    {
     "name": "stdout",
     "output_type": "stream",
     "text": [
      "mynameistouziat\n"
     ]
    }
   ],
   "source": [
    "y='mynameis'\n",
    "u='touziat'\n",
    "print(y+u)"
   ]
  },
  {
   "cell_type": "code",
   "execution_count": 18,
   "id": "7c7f95d8-fbae-4df7-8658-5814d229b509",
   "metadata": {},
   "outputs": [
    {
     "name": "stdout",
     "output_type": "stream",
     "text": [
      "heysiri\n"
     ]
    }
   ],
   "source": [
    "Q=\"hey\"\n",
    "R=\"siri\"\n",
    "print(Q+R)"
   ]
  },
  {
   "cell_type": "code",
   "execution_count": 19,
   "id": "802479a6-a1f3-4e19-a64b-030b2a5b46b4",
   "metadata": {},
   "outputs": [
    {
     "name": "stdout",
     "output_type": "stream",
     "text": [
      "Python\n"
     ]
    }
   ],
   "source": [
    "letter1 = \"P\"\n",
    "letter2 = \"y\"\n",
    "letter3 = \"thon\"\n",
    "word = letter1 + letter2 + letter3\n",
    "print(word)\n"
   ]
  },
  {
   "cell_type": "code",
   "execution_count": null,
   "id": "97aca9ce-5c44-4ae2-910d-534a62d7c4e4",
   "metadata": {},
   "outputs": [],
   "source": []
  }
 ],
 "metadata": {
  "kernelspec": {
   "display_name": "Python [conda env:base] *",
   "language": "python",
   "name": "conda-base-py"
  },
  "language_info": {
   "codemirror_mode": {
    "name": "ipython",
    "version": 3
   },
   "file_extension": ".py",
   "mimetype": "text/x-python",
   "name": "python",
   "nbconvert_exporter": "python",
   "pygments_lexer": "ipython3",
   "version": "3.13.5"
  }
 },
 "nbformat": 4,
 "nbformat_minor": 5
}
