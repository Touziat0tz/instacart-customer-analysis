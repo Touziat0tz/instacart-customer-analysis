{
 "cells": [
  {
   "cell_type": "code",
   "execution_count": 1,
   "id": "e1b03df9-f9b7-46c3-9fe8-6af52336a17a",
   "metadata": {},
   "outputs": [],
   "source": [
    "import pandas as pd\n",
    "import numpy as np\n",
    "import os"
   ]
  },
  {
   "cell_type": "code",
   "execution_count": 2,
   "id": "77027f1f-cf7e-42b2-8ee7-c53258c64884",
   "metadata": {},
   "outputs": [],
   "source": [
    "# Define path and load the merged dataframe\n",
    "path = r\"C:\\Users\\Pocah\\OneDrive\\Desktop\\bootcamp\\python\\Prepared Data\"\n",
    "df = pd.read_pickle(os.path.join(path, 'ords_prods_merge.pkl'))"
   ]
  },
  {
   "cell_type": "code",
   "execution_count": 3,
   "id": "5e7be29f-9c56-4b19-a18b-2b6303e58d0e",
   "metadata": {},
   "outputs": [],
   "source": [
    "# Aggregating mean order_number for all departments\n",
    "order_mean = df.groupby('department_id')['order_number'].mean()"
   ]
  },
  {
   "cell_type": "code",
   "execution_count": 4,
   "id": "db47a52e-41be-452b-b0dc-31ecfa09df2c",
   "metadata": {},
   "outputs": [
    {
     "data": {
      "text/plain": [
       "department_id\n",
       "1.0     15.457687\n",
       "2.0     17.277920\n",
       "3.0     17.179756\n",
       "4.0     17.811403\n",
       "5.0     15.213779\n",
       "6.0     16.439806\n",
       "7.0     17.225773\n",
       "8.0     15.340520\n",
       "9.0     15.895474\n",
       "10.0    20.197148\n",
       "11.0    16.170828\n",
       "12.0    15.887622\n",
       "13.0    16.583304\n",
       "14.0    16.757377\n",
       "15.0    16.165037\n",
       "16.0    17.663250\n",
       "17.0    15.694469\n",
       "18.0    19.310397\n",
       "19.0    17.177343\n",
       "20.0    16.473447\n",
       "21.0    22.902379\n",
       "Name: order_number, dtype: float64"
      ]
     },
     "execution_count": 4,
     "metadata": {},
     "output_type": "execute_result"
    }
   ],
   "source": [
    "# Display results\n",
    "order_mean"
   ]
  },
  {
   "cell_type": "code",
   "execution_count": 5,
   "id": "1e2a60a8-f766-45f5-a990-a2500929dd37",
   "metadata": {},
   "outputs": [],
   "source": [
    "# Create mean order count per user\n",
    "df['order_mean_per_user'] = df.groupby('user_id')['order_number'].transform('mean')"
   ]
  },
  {
   "cell_type": "code",
   "execution_count": 6,
   "id": "4fe63382-f366-4144-8d16-de7d811461b9",
   "metadata": {},
   "outputs": [],
   "source": [
    "# Creating loyalty flag\n",
    "df.loc[df['order_mean_per_user'] > 20, 'loyalty_flag'] = 'Loyal Customer'\n",
    "df.loc[(df['order_mean_per_user'] <= 20) & (df['order_mean_per_user'] > 10), 'loyalty_flag'] = 'Regular Customer'\n",
    "df.loc[df['order_mean_per_user'] <= 10, 'loyalty_flag'] = 'New Customer'"
   ]
  },
  {
   "cell_type": "code",
   "execution_count": null,
   "id": "bdd14c6b-9f59-40c1-b6a4-16f510dc1a8e",
   "metadata": {},
   "outputs": [],
   "source": [
    "#Analyze Spending by Loyalty Category"
   ]
  },
  {
   "cell_type": "code",
   "execution_count": 7,
   "id": "7737dcab-ddb8-44d4-899b-d03770b9f299",
   "metadata": {},
   "outputs": [
    {
     "data": {
      "text/html": [
       "<div>\n",
       "<style scoped>\n",
       "    .dataframe tbody tr th:only-of-type {\n",
       "        vertical-align: middle;\n",
       "    }\n",
       "\n",
       "    .dataframe tbody tr th {\n",
       "        vertical-align: top;\n",
       "    }\n",
       "\n",
       "    .dataframe thead th {\n",
       "        text-align: right;\n",
       "    }\n",
       "</style>\n",
       "<table border=\"1\" class=\"dataframe\">\n",
       "  <thead>\n",
       "    <tr style=\"text-align: right;\">\n",
       "      <th></th>\n",
       "      <th>count</th>\n",
       "      <th>mean</th>\n",
       "      <th>std</th>\n",
       "      <th>min</th>\n",
       "      <th>25%</th>\n",
       "      <th>50%</th>\n",
       "      <th>75%</th>\n",
       "      <th>max</th>\n",
       "    </tr>\n",
       "    <tr>\n",
       "      <th>loyalty_flag</th>\n",
       "      <th></th>\n",
       "      <th></th>\n",
       "      <th></th>\n",
       "      <th></th>\n",
       "      <th></th>\n",
       "      <th></th>\n",
       "      <th></th>\n",
       "      <th></th>\n",
       "    </tr>\n",
       "  </thead>\n",
       "  <tbody>\n",
       "    <tr>\n",
       "      <th>Loyal Customer</th>\n",
       "      <td>10944620.0</td>\n",
       "      <td>10.466139</td>\n",
       "      <td>340.945772</td>\n",
       "      <td>1.0</td>\n",
       "      <td>4.2</td>\n",
       "      <td>7.4</td>\n",
       "      <td>11.2</td>\n",
       "      <td>99999.0</td>\n",
       "    </tr>\n",
       "    <tr>\n",
       "      <th>New Customer</th>\n",
       "      <td>12090394.0</td>\n",
       "      <td>13.312566</td>\n",
       "      <td>592.339583</td>\n",
       "      <td>1.0</td>\n",
       "      <td>4.2</td>\n",
       "      <td>7.4</td>\n",
       "      <td>11.3</td>\n",
       "      <td>99999.0</td>\n",
       "    </tr>\n",
       "    <tr>\n",
       "      <th>Regular Customer</th>\n",
       "      <td>9399198.0</td>\n",
       "      <td>12.032609</td>\n",
       "      <td>510.198900</td>\n",
       "      <td>1.0</td>\n",
       "      <td>4.2</td>\n",
       "      <td>7.4</td>\n",
       "      <td>11.3</td>\n",
       "      <td>99999.0</td>\n",
       "    </tr>\n",
       "  </tbody>\n",
       "</table>\n",
       "</div>"
      ],
      "text/plain": [
       "                       count       mean         std  min  25%  50%   75%  \\\n",
       "loyalty_flag                                                               \n",
       "Loyal Customer    10944620.0  10.466139  340.945772  1.0  4.2  7.4  11.2   \n",
       "New Customer      12090394.0  13.312566  592.339583  1.0  4.2  7.4  11.3   \n",
       "Regular Customer   9399198.0  12.032609  510.198900  1.0  4.2  7.4  11.3   \n",
       "\n",
       "                      max  \n",
       "loyalty_flag               \n",
       "Loyal Customer    99999.0  \n",
       "New Customer      99999.0  \n",
       "Regular Customer  99999.0  "
      ]
     },
     "execution_count": 7,
     "metadata": {},
     "output_type": "execute_result"
    }
   ],
   "source": [
    "# Descriptive stats for prices by loyalty\n",
    "df.groupby('loyalty_flag')['prices'].describe()"
   ]
  },
  {
   "cell_type": "code",
   "execution_count": null,
   "id": "ab944636-53d0-481e-8695-9435c037c04e",
   "metadata": {},
   "outputs": [],
   "source": [
    "#Create Spending Flag"
   ]
  },
  {
   "cell_type": "code",
   "execution_count": 8,
   "id": "3f39ea7f-c346-44b5-be71-bf236adfc67d",
   "metadata": {},
   "outputs": [],
   "source": [
    "# Calculate average price per user\n",
    "df['avg_price_per_user'] = df.groupby('user_id')['prices'].transform('mean')"
   ]
  },
  {
   "cell_type": "code",
   "execution_count": 9,
   "id": "46db08ba-d44b-427e-a16d-b955bdbe86bd",
   "metadata": {},
   "outputs": [],
   "source": [
    "# Flag spenders\n",
    "df.loc[df['avg_price_per_user'] < 10, 'spending_flag'] = 'Low spender'\n",
    "df.loc[df['avg_price_per_user'] >= 10, 'spending_flag'] = 'High spender'"
   ]
  },
  {
   "cell_type": "code",
   "execution_count": null,
   "id": "aac578df-be7f-49ec-a330-4bce441390ac",
   "metadata": {},
   "outputs": [],
   "source": [
    " #Create Order Frequency Flag"
   ]
  },
  {
   "cell_type": "code",
   "execution_count": 10,
   "id": "57e73d98-e5bf-482a-93d1-e9b5b75cb209",
   "metadata": {},
   "outputs": [],
   "source": [
    "# Calculate median days_since_prior_order\n",
    "df['median_days'] = df.groupby('user_id')['days_since_prior_order'].transform('median')"
   ]
  },
  {
   "cell_type": "code",
   "execution_count": 13,
   "id": "7af824c2-d70b-404b-b0b6-bb7ead2a5b64",
   "metadata": {},
   "outputs": [],
   "source": [
    "# Frequency flag\n",
    "df.loc[df['median_days'] > 20, 'order_frequency_flag'] = 'Non-frequent customer'\n",
    "df.loc[(df['median_days'] > 10) & (df['median_days'] <= 20), 'order_frequency_flag'] = 'Regular customer'\n",
    "df.loc[df['median_days'] <= 10, 'order_frequency_flag'] = 'Frequent customer'"
   ]
  },
  {
   "cell_type": "code",
   "execution_count": 14,
   "id": "e13751ba-cfc3-4f89-bcac-0e92492b0bfb",
   "metadata": {},
   "outputs": [],
   "source": [
    "#Export Final DataFrame"
   ]
  },
  {
   "cell_type": "code",
   "execution_count": 15,
   "id": "10594051-5d1f-491f-b323-8c968e5999b2",
   "metadata": {},
   "outputs": [],
   "source": [
    "# Export to pickle\n",
    "df.to_pickle(os.path.join(path, 'ords_prods_enriched.pkl'))"
   ]
  },
  {
   "cell_type": "code",
   "execution_count": 16,
   "id": "820479c6-1e40-409d-8c98-929a45cf0679",
   "metadata": {},
   "outputs": [
    {
     "data": {
      "text/html": [
       "<div>\n",
       "<style scoped>\n",
       "    .dataframe tbody tr th:only-of-type {\n",
       "        vertical-align: middle;\n",
       "    }\n",
       "\n",
       "    .dataframe tbody tr th {\n",
       "        vertical-align: top;\n",
       "    }\n",
       "\n",
       "    .dataframe thead th {\n",
       "        text-align: right;\n",
       "    }\n",
       "</style>\n",
       "<table border=\"1\" class=\"dataframe\">\n",
       "  <thead>\n",
       "    <tr style=\"text-align: right;\">\n",
       "      <th></th>\n",
       "      <th>order_id</th>\n",
       "      <th>user_id</th>\n",
       "      <th>eval_set</th>\n",
       "      <th>order_number</th>\n",
       "      <th>order_day_of_week</th>\n",
       "      <th>order_hour_of_day</th>\n",
       "      <th>days_since_prior_order</th>\n",
       "      <th>product_id</th>\n",
       "      <th>add_to_cart_order</th>\n",
       "      <th>reordered</th>\n",
       "      <th>...</th>\n",
       "      <th>aisle_id</th>\n",
       "      <th>department_id</th>\n",
       "      <th>prices</th>\n",
       "      <th>_merge</th>\n",
       "      <th>order_mean_per_user</th>\n",
       "      <th>loyalty_flag</th>\n",
       "      <th>avg_price_per_user</th>\n",
       "      <th>spending_flag</th>\n",
       "      <th>median_days</th>\n",
       "      <th>order_frequency_flag</th>\n",
       "    </tr>\n",
       "  </thead>\n",
       "  <tbody>\n",
       "    <tr>\n",
       "      <th>0</th>\n",
       "      <td>2539329</td>\n",
       "      <td>1</td>\n",
       "      <td>prior</td>\n",
       "      <td>1</td>\n",
       "      <td>2</td>\n",
       "      <td>8</td>\n",
       "      <td>0.0</td>\n",
       "      <td>196</td>\n",
       "      <td>1</td>\n",
       "      <td>0</td>\n",
       "      <td>...</td>\n",
       "      <td>77.0</td>\n",
       "      <td>7.0</td>\n",
       "      <td>9.0</td>\n",
       "      <td>both</td>\n",
       "      <td>5.813559</td>\n",
       "      <td>New Customer</td>\n",
       "      <td>6.367797</td>\n",
       "      <td>Low spender</td>\n",
       "      <td>20.0</td>\n",
       "      <td>Regular customer</td>\n",
       "    </tr>\n",
       "    <tr>\n",
       "      <th>1</th>\n",
       "      <td>2539329</td>\n",
       "      <td>1</td>\n",
       "      <td>prior</td>\n",
       "      <td>1</td>\n",
       "      <td>2</td>\n",
       "      <td>8</td>\n",
       "      <td>0.0</td>\n",
       "      <td>14084</td>\n",
       "      <td>2</td>\n",
       "      <td>0</td>\n",
       "      <td>...</td>\n",
       "      <td>91.0</td>\n",
       "      <td>16.0</td>\n",
       "      <td>12.5</td>\n",
       "      <td>both</td>\n",
       "      <td>5.813559</td>\n",
       "      <td>New Customer</td>\n",
       "      <td>6.367797</td>\n",
       "      <td>Low spender</td>\n",
       "      <td>20.0</td>\n",
       "      <td>Regular customer</td>\n",
       "    </tr>\n",
       "    <tr>\n",
       "      <th>2</th>\n",
       "      <td>2539329</td>\n",
       "      <td>1</td>\n",
       "      <td>prior</td>\n",
       "      <td>1</td>\n",
       "      <td>2</td>\n",
       "      <td>8</td>\n",
       "      <td>0.0</td>\n",
       "      <td>12427</td>\n",
       "      <td>3</td>\n",
       "      <td>0</td>\n",
       "      <td>...</td>\n",
       "      <td>23.0</td>\n",
       "      <td>19.0</td>\n",
       "      <td>4.4</td>\n",
       "      <td>both</td>\n",
       "      <td>5.813559</td>\n",
       "      <td>New Customer</td>\n",
       "      <td>6.367797</td>\n",
       "      <td>Low spender</td>\n",
       "      <td>20.0</td>\n",
       "      <td>Regular customer</td>\n",
       "    </tr>\n",
       "    <tr>\n",
       "      <th>3</th>\n",
       "      <td>2539329</td>\n",
       "      <td>1</td>\n",
       "      <td>prior</td>\n",
       "      <td>1</td>\n",
       "      <td>2</td>\n",
       "      <td>8</td>\n",
       "      <td>0.0</td>\n",
       "      <td>26088</td>\n",
       "      <td>4</td>\n",
       "      <td>0</td>\n",
       "      <td>...</td>\n",
       "      <td>23.0</td>\n",
       "      <td>19.0</td>\n",
       "      <td>4.7</td>\n",
       "      <td>both</td>\n",
       "      <td>5.813559</td>\n",
       "      <td>New Customer</td>\n",
       "      <td>6.367797</td>\n",
       "      <td>Low spender</td>\n",
       "      <td>20.0</td>\n",
       "      <td>Regular customer</td>\n",
       "    </tr>\n",
       "    <tr>\n",
       "      <th>4</th>\n",
       "      <td>2539329</td>\n",
       "      <td>1</td>\n",
       "      <td>prior</td>\n",
       "      <td>1</td>\n",
       "      <td>2</td>\n",
       "      <td>8</td>\n",
       "      <td>0.0</td>\n",
       "      <td>26405</td>\n",
       "      <td>5</td>\n",
       "      <td>0</td>\n",
       "      <td>...</td>\n",
       "      <td>54.0</td>\n",
       "      <td>17.0</td>\n",
       "      <td>1.0</td>\n",
       "      <td>both</td>\n",
       "      <td>5.813559</td>\n",
       "      <td>New Customer</td>\n",
       "      <td>6.367797</td>\n",
       "      <td>Low spender</td>\n",
       "      <td>20.0</td>\n",
       "      <td>Regular customer</td>\n",
       "    </tr>\n",
       "  </tbody>\n",
       "</table>\n",
       "<p>5 rows × 21 columns</p>\n",
       "</div>"
      ],
      "text/plain": [
       "   order_id  user_id eval_set  order_number  order_day_of_week  \\\n",
       "0   2539329        1    prior             1                  2   \n",
       "1   2539329        1    prior             1                  2   \n",
       "2   2539329        1    prior             1                  2   \n",
       "3   2539329        1    prior             1                  2   \n",
       "4   2539329        1    prior             1                  2   \n",
       "\n",
       "   order_hour_of_day  days_since_prior_order  product_id  add_to_cart_order  \\\n",
       "0                  8                     0.0         196                  1   \n",
       "1                  8                     0.0       14084                  2   \n",
       "2                  8                     0.0       12427                  3   \n",
       "3                  8                     0.0       26088                  4   \n",
       "4                  8                     0.0       26405                  5   \n",
       "\n",
       "   reordered  ... aisle_id  department_id  prices  _merge order_mean_per_user  \\\n",
       "0          0  ...     77.0            7.0     9.0    both            5.813559   \n",
       "1          0  ...     91.0           16.0    12.5    both            5.813559   \n",
       "2          0  ...     23.0           19.0     4.4    both            5.813559   \n",
       "3          0  ...     23.0           19.0     4.7    both            5.813559   \n",
       "4          0  ...     54.0           17.0     1.0    both            5.813559   \n",
       "\n",
       "   loyalty_flag avg_price_per_user  spending_flag median_days  \\\n",
       "0  New Customer           6.367797    Low spender        20.0   \n",
       "1  New Customer           6.367797    Low spender        20.0   \n",
       "2  New Customer           6.367797    Low spender        20.0   \n",
       "3  New Customer           6.367797    Low spender        20.0   \n",
       "4  New Customer           6.367797    Low spender        20.0   \n",
       "\n",
       "   order_frequency_flag  \n",
       "0      Regular customer  \n",
       "1      Regular customer  \n",
       "2      Regular customer  \n",
       "3      Regular customer  \n",
       "4      Regular customer  \n",
       "\n",
       "[5 rows x 21 columns]"
      ]
     },
     "execution_count": 16,
     "metadata": {},
     "output_type": "execute_result"
    }
   ],
   "source": [
    "df.head()"
   ]
  },
  {
   "cell_type": "code",
   "execution_count": 19,
   "id": "c2a1a7ba-3705-46ea-9844-ad8ffb3ab17f",
   "metadata": {},
   "outputs": [
    {
     "data": {
      "text/plain": [
       "(32436241, 21)"
      ]
     },
     "execution_count": 19,
     "metadata": {},
     "output_type": "execute_result"
    }
   ],
   "source": [
    "df.shape"
   ]
  },
  {
   "cell_type": "code",
   "execution_count": null,
   "id": "0c2844af-3c64-477e-b733-b9c8cfcdf977",
   "metadata": {},
   "outputs": [],
   "source": []
  }
 ],
 "metadata": {
  "kernelspec": {
   "display_name": "Python [conda env:base] *",
   "language": "python",
   "name": "conda-base-py"
  },
  "language_info": {
   "codemirror_mode": {
    "name": "ipython",
    "version": 3
   },
   "file_extension": ".py",
   "mimetype": "text/x-python",
   "name": "python",
   "nbconvert_exporter": "python",
   "pygments_lexer": "ipython3",
   "version": "3.13.5"
  }
 },
 "nbformat": 4,
 "nbformat_minor": 5
}
