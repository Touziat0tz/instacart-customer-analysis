{
 "cells": [
  {
   "cell_type": "code",
   "execution_count": null,
   "id": "cd24b300-54ca-4ac0-880a-49d313bcb213",
   "metadata": {},
   "outputs": [],
   "source": [
    "# Instacart Project – Data Wrangling & Analysis\n",
    "\n",
    "This notebook includes all steps from data import to exporting cleaned datasets, with insights and summaries where needed.\n"
   ]
  },
  {
   "cell_type": "code",
   "execution_count": null,
   "id": "55e2f631-60e9-4881-a75b-739070ff8eb6",
   "metadata": {},
   "outputs": [],
   "source": [
    "## 1. Importing Libraries and Setting Path\n"
   ]
  },
  {
   "cell_type": "code",
   "execution_count": 1,
   "id": "92b25c43-60b1-4df1-893e-a98b839ad3ec",
   "metadata": {},
   "outputs": [],
   "source": [
    "import pandas as pd\n",
    "import os\n"
   ]
  },
  {
   "cell_type": "code",
   "execution_count": 2,
   "id": "ac86b6b7-1501-41cf-a9c8-3e9784ab3341",
   "metadata": {},
   "outputs": [],
   "source": [
    "path = r\"C:\\Users\\Pocah\\OneDrive\\Desktop\\bootcamp\\python\"\n"
   ]
  },
  {
   "cell_type": "code",
   "execution_count": null,
   "id": "a2f24327-dd76-42b9-b1fa-62ee00f9b0a5",
   "metadata": {},
   "outputs": [],
   "source": [
    "## 2. Importing Datasets\n"
   ]
  },
  {
   "cell_type": "code",
   "execution_count": 3,
   "id": "6407016d-59ca-40e9-b2ea-d00d0f531e69",
   "metadata": {},
   "outputs": [],
   "source": [
    "# Load orders data\n",
    "df_ords = pd.read_csv(os.path.join(path, 'original data', '4.3_orders_products (1)', 'orders.csv'))"
   ]
  },
  {
   "cell_type": "code",
   "execution_count": 4,
   "id": "2baa03fd-4f4a-4b16-851b-348206c4dadc",
   "metadata": {},
   "outputs": [],
   "source": [
    "# Load orders data\n",
    "df_ords = pd.read_csv(os.path.join(path, 'original data', '4.3_orders_products (1)', 'orders.csv'))"
   ]
  },
  {
   "cell_type": "code",
   "execution_count": 7,
   "id": "915d911b-de9a-4a37-b0c5-0e19b74b4c6f",
   "metadata": {},
   "outputs": [],
   "source": [
    "path = r\"C:\\Users\\Pocah\\OneDrive\\Desktop\\bootcamp\\python\""
   ]
  },
  {
   "cell_type": "code",
   "execution_count": 8,
   "id": "f5768bdf-f787-459d-8774-adfe64c18bdc",
   "metadata": {},
   "outputs": [],
   "source": [
    "df_dep = pd.read_csv(os.path.join(path, 'original data', '4.4_departments', 'departments.csv'))"
   ]
  },
  {
   "cell_type": "code",
   "execution_count": null,
   "id": "88da4759-93a4-4e57-969d-235c281afa9b",
   "metadata": {},
   "outputs": [],
   "source": [
    "## 3. Cleaning Departments Table\n"
   ]
  },
  {
   "cell_type": "code",
   "execution_count": 10,
   "id": "e0528127-1fd5-4b88-8522-78bd9131d3ee",
   "metadata": {},
   "outputs": [],
   "source": [
    "# Converting user_id to string — I won’t analyze it numerically\n",
    "df_ords['user_id'] = df_ords['user_id'].astype('str')\n"
   ]
  },
  {
   "cell_type": "code",
   "execution_count": 11,
   "id": "84074ec8-9455-467c-bad2-c6b286d51d2b",
   "metadata": {},
   "outputs": [],
   "source": [
    "# Rename 'order_dow' to 'order_day_of_week'\n",
    "df_ords.rename(columns={'order_dow': 'order_day_of_week'}, inplace=True)\n"
   ]
  },
  {
   "cell_type": "code",
   "execution_count": 12,
   "id": "a615e71d-3a6f-487c-ad2a-f04431c7e5c0",
   "metadata": {},
   "outputs": [],
   "source": [
    "# Frequency count of orders by hour\n",
    "hour_counts = df_ords['order_hour_of_day'].value_counts().sort_index()"
   ]
  },
  {
   "cell_type": "code",
   "execution_count": null,
   "id": "74d536dd-4f2c-4422-8555-2ff7fba095ef",
   "metadata": {},
   "outputs": [],
   "source": [
    "## 4. Busiest Hour Analysis\n"
   ]
  },
  {
   "cell_type": "code",
   "execution_count": 13,
   "id": "45a0199c-7a34-446f-9c8a-af5a3461d5fa",
   "metadata": {},
   "outputs": [
    {
     "name": "stdout",
     "output_type": "stream",
     "text": [
      "The busiest hour for placing orders is: 10\n"
     ]
    }
   ],
   "source": [
    "# Displaying the busiest hour\n",
    "busiest_hour = hour_counts.idxmax()\n",
    "print(f\"The busiest hour for placing orders is: {busiest_hour}\")"
   ]
  },
  {
   "cell_type": "code",
   "execution_count": 14,
   "id": "ed5bb41f-5f30-4ccd-b998-0c7f32572aa9",
   "metadata": {},
   "outputs": [
    {
     "data": {
      "text/html": [
       "<div>\n",
       "<style scoped>\n",
       "    .dataframe tbody tr th:only-of-type {\n",
       "        vertical-align: middle;\n",
       "    }\n",
       "\n",
       "    .dataframe tbody tr th {\n",
       "        vertical-align: top;\n",
       "    }\n",
       "\n",
       "    .dataframe thead th {\n",
       "        text-align: right;\n",
       "    }\n",
       "</style>\n",
       "<table border=\"1\" class=\"dataframe\">\n",
       "  <thead>\n",
       "    <tr style=\"text-align: right;\">\n",
       "      <th></th>\n",
       "      <th>department_id</th>\n",
       "      <th>1</th>\n",
       "      <th>2</th>\n",
       "      <th>3</th>\n",
       "      <th>4</th>\n",
       "      <th>5</th>\n",
       "      <th>6</th>\n",
       "      <th>7</th>\n",
       "      <th>8</th>\n",
       "      <th>9</th>\n",
       "      <th>...</th>\n",
       "      <th>12</th>\n",
       "      <th>13</th>\n",
       "      <th>14</th>\n",
       "      <th>15</th>\n",
       "      <th>16</th>\n",
       "      <th>17</th>\n",
       "      <th>18</th>\n",
       "      <th>19</th>\n",
       "      <th>20</th>\n",
       "      <th>21</th>\n",
       "    </tr>\n",
       "  </thead>\n",
       "  <tbody>\n",
       "  </tbody>\n",
       "</table>\n",
       "<p>0 rows × 22 columns</p>\n",
       "</div>"
      ],
      "text/plain": [
       "Empty DataFrame\n",
       "Columns: [department_id, 1, 2, 3, 4, 5, 6, 7, 8, 9, 10, 11, 12, 13, 14, 15, 16, 17, 18, 19, 20, 21]\n",
       "Index: []\n",
       "\n",
       "[0 rows x 22 columns]"
      ]
     },
     "execution_count": 14,
     "metadata": {},
     "output_type": "execute_result"
    }
   ],
   "source": [
    "# Check the department with ID 4\n",
    "df_dep[df_dep['department_id'] == 4]\n"
   ]
  },
  {
   "cell_type": "code",
   "execution_count": 18,
   "id": "f94aee49-b40c-4779-bd90-1138bdfc6d89",
   "metadata": {},
   "outputs": [],
   "source": [
    "# Load the products data\n",
    "df_prods = pd.read_csv(os.path.join(path, 'original data', '4.3_orders_products (1)', 'products.csv'))\n"
   ]
  },
  {
   "cell_type": "code",
   "execution_count": 22,
   "id": "be9bad67-2363-4c29-9dd5-3600e43f442b",
   "metadata": {},
   "outputs": [
    {
     "name": "stdout",
     "output_type": "stream",
     "text": [
      "Index(['product_id', 'product_name', 'aisle_id', 'department_id', 'prices'], dtype='object')\n"
     ]
    }
   ],
   "source": [
    "print(df_prods.columns)\n"
   ]
  },
  {
   "cell_type": "code",
   "execution_count": 23,
   "id": "431bb310-85cf-4073-80d5-6e006d190190",
   "metadata": {},
   "outputs": [
    {
     "name": "stdout",
     "output_type": "stream",
     "text": [
      "Index(['department_id', '1', '2', '3', '4', '5', '6', '7', '8', '9', '10',\n",
      "       '11', '12', '13', '14', '15', '16', '17', '18', '19', '20', '21'],\n",
      "      dtype='object')\n"
     ]
    }
   ],
   "source": [
    "print(df_dep.columns)\n"
   ]
  },
  {
   "cell_type": "code",
   "execution_count": 24,
   "id": "b9a166b0-5966-48dd-8fbf-10144e243327",
   "metadata": {},
   "outputs": [],
   "source": [
    "# Transpose the departments table\n",
    "df_dep = df_dep.T"
   ]
  },
  {
   "cell_type": "code",
   "execution_count": 25,
   "id": "0e12d61d-c202-4bf8-8fde-c83141f869e9",
   "metadata": {},
   "outputs": [],
   "source": [
    "# Reset index so it becomes a column\n",
    "df_dep.reset_index(inplace=True)"
   ]
  },
  {
   "cell_type": "code",
   "execution_count": 26,
   "id": "a7a4be2f-9c96-4bd5-a193-bc54804684ae",
   "metadata": {},
   "outputs": [],
   "source": [
    "# Rename the columns to match expected structure\n",
    "df_dep.columns = ['department_id', 'department']"
   ]
  },
  {
   "cell_type": "code",
   "execution_count": 28,
   "id": "418e396e-7e33-46fd-bf82-fee1d6ef07b1",
   "metadata": {},
   "outputs": [
    {
     "name": "stdout",
     "output_type": "stream",
     "text": [
      "int64\n",
      "object\n"
     ]
    }
   ],
   "source": [
    "print(df_prods['department_id'].dtype)\n",
    "print(df_dep['department_id'].dtype)\n"
   ]
  },
  {
   "cell_type": "code",
   "execution_count": null,
   "id": "2fa44369-3434-4ba6-80a2-10f87105df9d",
   "metadata": {},
   "outputs": [],
   "source": [
    "## 5. Data Wrangling in Orders Data\n"
   ]
  },
  {
   "cell_type": "code",
   "execution_count": 29,
   "id": "c3f6450c-41e1-4cb5-960d-cad38cdfef39",
   "metadata": {},
   "outputs": [],
   "source": [
    "# Convert department_id in both DataFrames to string type\n",
    "df_prods['department_id'] = df_prods['department_id'].astype(str)\n",
    "df_dep['department_id'] = df_dep['department_id'].astype(str)\n"
   ]
  },
  {
   "cell_type": "code",
   "execution_count": null,
   "id": "dd034c60-02bf-4f46-986e-0da3fcb81f52",
   "metadata": {},
   "outputs": [],
   "source": [
    "## 6. Merged Products with Departments\n"
   ]
  },
  {
   "cell_type": "code",
   "execution_count": 30,
   "id": "75c455d2-19e1-4ee3-b8aa-f8fe731e8732",
   "metadata": {},
   "outputs": [],
   "source": [
    "df_prods_merged = pd.merge(df_prods, df_dep, on='department_id', how='left')\n"
   ]
  },
  {
   "cell_type": "code",
   "execution_count": null,
   "id": "ccc76a4d-8d8f-4b16-82a8-ee5ac6f96178",
   "metadata": {},
   "outputs": [],
   "source": [
    "## 7. Breakfast Subset\n"
   ]
  },
  {
   "cell_type": "code",
   "execution_count": 31,
   "id": "c3d1e02c-3f72-41cb-9b2c-602067a86eb5",
   "metadata": {},
   "outputs": [],
   "source": [
    "# Subset the merged data for breakfast items\n",
    "df_breakfast = df_prods_merged[df_prods_merged['department'] == 'breakfast']\n"
   ]
  },
  {
   "cell_type": "code",
   "execution_count": 32,
   "id": "a5e78187-3be0-428b-8f6f-da0fdf21a1ae",
   "metadata": {},
   "outputs": [
    {
     "data": {
      "text/html": [
       "<div>\n",
       "<style scoped>\n",
       "    .dataframe tbody tr th:only-of-type {\n",
       "        vertical-align: middle;\n",
       "    }\n",
       "\n",
       "    .dataframe tbody tr th {\n",
       "        vertical-align: top;\n",
       "    }\n",
       "\n",
       "    .dataframe thead th {\n",
       "        text-align: right;\n",
       "    }\n",
       "</style>\n",
       "<table border=\"1\" class=\"dataframe\">\n",
       "  <thead>\n",
       "    <tr style=\"text-align: right;\">\n",
       "      <th></th>\n",
       "      <th>product_id</th>\n",
       "      <th>product_name</th>\n",
       "      <th>aisle_id</th>\n",
       "      <th>department_id</th>\n",
       "      <th>prices</th>\n",
       "      <th>department</th>\n",
       "    </tr>\n",
       "  </thead>\n",
       "  <tbody>\n",
       "    <tr>\n",
       "      <th>27</th>\n",
       "      <td>28</td>\n",
       "      <td>Wheat Chex Cereal</td>\n",
       "      <td>121</td>\n",
       "      <td>14</td>\n",
       "      <td>10.1</td>\n",
       "      <td>breakfast</td>\n",
       "    </tr>\n",
       "    <tr>\n",
       "      <th>33</th>\n",
       "      <td>34</td>\n",
       "      <td>NaN</td>\n",
       "      <td>121</td>\n",
       "      <td>14</td>\n",
       "      <td>12.2</td>\n",
       "      <td>breakfast</td>\n",
       "    </tr>\n",
       "    <tr>\n",
       "      <th>67</th>\n",
       "      <td>68</td>\n",
       "      <td>Pancake Mix, Buttermilk</td>\n",
       "      <td>130</td>\n",
       "      <td>14</td>\n",
       "      <td>13.7</td>\n",
       "      <td>breakfast</td>\n",
       "    </tr>\n",
       "    <tr>\n",
       "      <th>89</th>\n",
       "      <td>90</td>\n",
       "      <td>Smorz Cereal</td>\n",
       "      <td>121</td>\n",
       "      <td>14</td>\n",
       "      <td>3.9</td>\n",
       "      <td>breakfast</td>\n",
       "    </tr>\n",
       "    <tr>\n",
       "      <th>210</th>\n",
       "      <td>211</td>\n",
       "      <td>Gluten Free Organic Cereal Coconut Maple Vanilla</td>\n",
       "      <td>130</td>\n",
       "      <td>14</td>\n",
       "      <td>3.6</td>\n",
       "      <td>breakfast</td>\n",
       "    </tr>\n",
       "  </tbody>\n",
       "</table>\n",
       "</div>"
      ],
      "text/plain": [
       "     product_id                                      product_name  aisle_id  \\\n",
       "27           28                                 Wheat Chex Cereal       121   \n",
       "33           34                                               NaN       121   \n",
       "67           68                           Pancake Mix, Buttermilk       130   \n",
       "89           90                                      Smorz Cereal       121   \n",
       "210         211  Gluten Free Organic Cereal Coconut Maple Vanilla       130   \n",
       "\n",
       "    department_id  prices department  \n",
       "27             14    10.1  breakfast  \n",
       "33             14    12.2  breakfast  \n",
       "67             14    13.7  breakfast  \n",
       "89             14     3.9  breakfast  \n",
       "210            14     3.6  breakfast  "
      ]
     },
     "execution_count": 32,
     "metadata": {},
     "output_type": "execute_result"
    }
   ],
   "source": [
    "df_breakfast.head()"
   ]
  },
  {
   "cell_type": "code",
   "execution_count": 33,
   "id": "f377281a-94db-482e-bb46-7de2e9db7dac",
   "metadata": {},
   "outputs": [],
   "source": [
    "# Define target departments\n",
    "party_depts = ['alcohol', 'deli', 'beverages', 'meat/seafood']\n"
   ]
  },
  {
   "cell_type": "code",
   "execution_count": null,
   "id": "17526aaf-fda1-4109-90d4-6033e3bc5e0c",
   "metadata": {},
   "outputs": [],
   "source": [
    "## 8. dinner subset"
   ]
  },
  {
   "cell_type": "code",
   "execution_count": 34,
   "id": "0f8cc5fc-019b-445d-b6dc-f1127fbc9686",
   "metadata": {},
   "outputs": [],
   "source": [
    "# Subset the merged data for dinner party items\n",
    "df_dinner_party = df_prods_merged[df_prods_merged['department'].isin(party_depts)]"
   ]
  },
  {
   "cell_type": "code",
   "execution_count": 35,
   "id": "31810279-236f-4215-a366-deb8d81a8732",
   "metadata": {},
   "outputs": [
    {
     "name": "stdout",
     "output_type": "stream",
     "text": [
      "6743\n"
     ]
    },
    {
     "data": {
      "text/html": [
       "<div>\n",
       "<style scoped>\n",
       "    .dataframe tbody tr th:only-of-type {\n",
       "        vertical-align: middle;\n",
       "    }\n",
       "\n",
       "    .dataframe tbody tr th {\n",
       "        vertical-align: top;\n",
       "    }\n",
       "\n",
       "    .dataframe thead th {\n",
       "        text-align: right;\n",
       "    }\n",
       "</style>\n",
       "<table border=\"1\" class=\"dataframe\">\n",
       "  <thead>\n",
       "    <tr style=\"text-align: right;\">\n",
       "      <th></th>\n",
       "      <th>product_id</th>\n",
       "      <th>product_name</th>\n",
       "      <th>aisle_id</th>\n",
       "      <th>department_id</th>\n",
       "      <th>prices</th>\n",
       "      <th>department</th>\n",
       "    </tr>\n",
       "  </thead>\n",
       "  <tbody>\n",
       "    <tr>\n",
       "      <th>2</th>\n",
       "      <td>3</td>\n",
       "      <td>Robust Golden Unsweetened Oolong Tea</td>\n",
       "      <td>94</td>\n",
       "      <td>7</td>\n",
       "      <td>4.5</td>\n",
       "      <td>beverages</td>\n",
       "    </tr>\n",
       "    <tr>\n",
       "      <th>6</th>\n",
       "      <td>7</td>\n",
       "      <td>Pure Coconut Water With Orange</td>\n",
       "      <td>98</td>\n",
       "      <td>7</td>\n",
       "      <td>4.4</td>\n",
       "      <td>beverages</td>\n",
       "    </tr>\n",
       "    <tr>\n",
       "      <th>9</th>\n",
       "      <td>10</td>\n",
       "      <td>Sparkling Orange Juice &amp; Prickly Pear Beverage</td>\n",
       "      <td>115</td>\n",
       "      <td>7</td>\n",
       "      <td>8.4</td>\n",
       "      <td>beverages</td>\n",
       "    </tr>\n",
       "    <tr>\n",
       "      <th>10</th>\n",
       "      <td>11</td>\n",
       "      <td>Peach Mango Juice</td>\n",
       "      <td>31</td>\n",
       "      <td>7</td>\n",
       "      <td>2.8</td>\n",
       "      <td>beverages</td>\n",
       "    </tr>\n",
       "    <tr>\n",
       "      <th>19</th>\n",
       "      <td>20</td>\n",
       "      <td>Pomegranate Cranberry &amp; Aloe Vera Enrich Drink</td>\n",
       "      <td>98</td>\n",
       "      <td>7</td>\n",
       "      <td>6.0</td>\n",
       "      <td>beverages</td>\n",
       "    </tr>\n",
       "  </tbody>\n",
       "</table>\n",
       "</div>"
      ],
      "text/plain": [
       "    product_id                                    product_name  aisle_id  \\\n",
       "2            3            Robust Golden Unsweetened Oolong Tea        94   \n",
       "6            7                  Pure Coconut Water With Orange        98   \n",
       "9           10  Sparkling Orange Juice & Prickly Pear Beverage       115   \n",
       "10          11                               Peach Mango Juice        31   \n",
       "19          20  Pomegranate Cranberry & Aloe Vera Enrich Drink        98   \n",
       "\n",
       "   department_id  prices department  \n",
       "2              7     4.5  beverages  \n",
       "6              7     4.4  beverages  \n",
       "9              7     8.4  beverages  \n",
       "10             7     2.8  beverages  \n",
       "19             7     6.0  beverages  "
      ]
     },
     "execution_count": 35,
     "metadata": {},
     "output_type": "execute_result"
    }
   ],
   "source": [
    "print(df_dinner_party.shape[0])  # Total number of rows\n",
    "df_dinner_party.head()"
   ]
  },
  {
   "cell_type": "code",
   "execution_count": 36,
   "id": "4f952292-d9d0-444d-ae3a-56fdddae7c48",
   "metadata": {},
   "outputs": [
    {
     "name": "stdout",
     "output_type": "stream",
     "text": [
      "Total rows in df_dinner_party: 6743\n"
     ]
    }
   ],
   "source": [
    "# Get total number of rows in df_dinner_party\n",
    "print(\"Total rows in df_dinner_party:\", df_dinner_party.shape[0])\n"
   ]
  },
  {
   "cell_type": "code",
   "execution_count": 37,
   "id": "67d0f5ff-917c-47ef-bc6a-9296240b3de1",
   "metadata": {},
   "outputs": [
    {
     "data": {
      "text/html": [
       "<div>\n",
       "<style scoped>\n",
       "    .dataframe tbody tr th:only-of-type {\n",
       "        vertical-align: middle;\n",
       "    }\n",
       "\n",
       "    .dataframe tbody tr th {\n",
       "        vertical-align: top;\n",
       "    }\n",
       "\n",
       "    .dataframe thead th {\n",
       "        text-align: right;\n",
       "    }\n",
       "</style>\n",
       "<table border=\"1\" class=\"dataframe\">\n",
       "  <thead>\n",
       "    <tr style=\"text-align: right;\">\n",
       "      <th></th>\n",
       "      <th>order_id</th>\n",
       "      <th>user_id</th>\n",
       "      <th>eval_set</th>\n",
       "      <th>order_number</th>\n",
       "      <th>order_day_of_week</th>\n",
       "      <th>order_hour_of_day</th>\n",
       "      <th>days_since_prior_order</th>\n",
       "    </tr>\n",
       "  </thead>\n",
       "  <tbody>\n",
       "    <tr>\n",
       "      <th>0</th>\n",
       "      <td>2539329</td>\n",
       "      <td>1</td>\n",
       "      <td>prior</td>\n",
       "      <td>1</td>\n",
       "      <td>2</td>\n",
       "      <td>8</td>\n",
       "      <td>NaN</td>\n",
       "    </tr>\n",
       "    <tr>\n",
       "      <th>1</th>\n",
       "      <td>2398795</td>\n",
       "      <td>1</td>\n",
       "      <td>prior</td>\n",
       "      <td>2</td>\n",
       "      <td>3</td>\n",
       "      <td>7</td>\n",
       "      <td>15.0</td>\n",
       "    </tr>\n",
       "    <tr>\n",
       "      <th>2</th>\n",
       "      <td>473747</td>\n",
       "      <td>1</td>\n",
       "      <td>prior</td>\n",
       "      <td>3</td>\n",
       "      <td>3</td>\n",
       "      <td>12</td>\n",
       "      <td>21.0</td>\n",
       "    </tr>\n",
       "    <tr>\n",
       "      <th>3</th>\n",
       "      <td>2254736</td>\n",
       "      <td>1</td>\n",
       "      <td>prior</td>\n",
       "      <td>4</td>\n",
       "      <td>4</td>\n",
       "      <td>7</td>\n",
       "      <td>29.0</td>\n",
       "    </tr>\n",
       "    <tr>\n",
       "      <th>4</th>\n",
       "      <td>431534</td>\n",
       "      <td>1</td>\n",
       "      <td>prior</td>\n",
       "      <td>5</td>\n",
       "      <td>4</td>\n",
       "      <td>15</td>\n",
       "      <td>28.0</td>\n",
       "    </tr>\n",
       "    <tr>\n",
       "      <th>5</th>\n",
       "      <td>3367565</td>\n",
       "      <td>1</td>\n",
       "      <td>prior</td>\n",
       "      <td>6</td>\n",
       "      <td>2</td>\n",
       "      <td>7</td>\n",
       "      <td>19.0</td>\n",
       "    </tr>\n",
       "    <tr>\n",
       "      <th>6</th>\n",
       "      <td>550135</td>\n",
       "      <td>1</td>\n",
       "      <td>prior</td>\n",
       "      <td>7</td>\n",
       "      <td>1</td>\n",
       "      <td>9</td>\n",
       "      <td>20.0</td>\n",
       "    </tr>\n",
       "    <tr>\n",
       "      <th>7</th>\n",
       "      <td>3108588</td>\n",
       "      <td>1</td>\n",
       "      <td>prior</td>\n",
       "      <td>8</td>\n",
       "      <td>1</td>\n",
       "      <td>14</td>\n",
       "      <td>14.0</td>\n",
       "    </tr>\n",
       "    <tr>\n",
       "      <th>8</th>\n",
       "      <td>2295261</td>\n",
       "      <td>1</td>\n",
       "      <td>prior</td>\n",
       "      <td>9</td>\n",
       "      <td>1</td>\n",
       "      <td>16</td>\n",
       "      <td>0.0</td>\n",
       "    </tr>\n",
       "    <tr>\n",
       "      <th>9</th>\n",
       "      <td>2550362</td>\n",
       "      <td>1</td>\n",
       "      <td>prior</td>\n",
       "      <td>10</td>\n",
       "      <td>4</td>\n",
       "      <td>8</td>\n",
       "      <td>30.0</td>\n",
       "    </tr>\n",
       "    <tr>\n",
       "      <th>10</th>\n",
       "      <td>1187899</td>\n",
       "      <td>1</td>\n",
       "      <td>train</td>\n",
       "      <td>11</td>\n",
       "      <td>4</td>\n",
       "      <td>8</td>\n",
       "      <td>14.0</td>\n",
       "    </tr>\n",
       "  </tbody>\n",
       "</table>\n",
       "</div>"
      ],
      "text/plain": [
       "    order_id user_id eval_set  order_number  order_day_of_week  \\\n",
       "0    2539329       1    prior             1                  2   \n",
       "1    2398795       1    prior             2                  3   \n",
       "2     473747       1    prior             3                  3   \n",
       "3    2254736       1    prior             4                  4   \n",
       "4     431534       1    prior             5                  4   \n",
       "5    3367565       1    prior             6                  2   \n",
       "6     550135       1    prior             7                  1   \n",
       "7    3108588       1    prior             8                  1   \n",
       "8    2295261       1    prior             9                  1   \n",
       "9    2550362       1    prior            10                  4   \n",
       "10   1187899       1    train            11                  4   \n",
       "\n",
       "    order_hour_of_day  days_since_prior_order  \n",
       "0                   8                     NaN  \n",
       "1                   7                    15.0  \n",
       "2                  12                    21.0  \n",
       "3                   7                    29.0  \n",
       "4                  15                    28.0  \n",
       "5                   7                    19.0  \n",
       "6                   9                    20.0  \n",
       "7                  14                    14.0  \n",
       "8                  16                     0.0  \n",
       "9                   8                    30.0  \n",
       "10                  8                    14.0  "
      ]
     },
     "execution_count": 37,
     "metadata": {},
     "output_type": "execute_result"
    }
   ],
   "source": [
    "# Extract all records for user_id \"1\"\n",
    "user_1_data = df_ords[df_ords['user_id'] == '1']\n",
    "user_1_data\n"
   ]
  },
  {
   "cell_type": "code",
   "execution_count": 38,
   "id": "77da6467-bcd9-4e52-a87a-89466f6440ca",
   "metadata": {},
   "outputs": [
    {
     "data": {
      "text/html": [
       "<div>\n",
       "<style scoped>\n",
       "    .dataframe tbody tr th:only-of-type {\n",
       "        vertical-align: middle;\n",
       "    }\n",
       "\n",
       "    .dataframe tbody tr th {\n",
       "        vertical-align: top;\n",
       "    }\n",
       "\n",
       "    .dataframe thead th {\n",
       "        text-align: right;\n",
       "    }\n",
       "</style>\n",
       "<table border=\"1\" class=\"dataframe\">\n",
       "  <thead>\n",
       "    <tr style=\"text-align: right;\">\n",
       "      <th></th>\n",
       "      <th>order_id</th>\n",
       "      <th>order_number</th>\n",
       "      <th>order_day_of_week</th>\n",
       "      <th>order_hour_of_day</th>\n",
       "      <th>days_since_prior_order</th>\n",
       "    </tr>\n",
       "  </thead>\n",
       "  <tbody>\n",
       "    <tr>\n",
       "      <th>count</th>\n",
       "      <td>1.100000e+01</td>\n",
       "      <td>11.000000</td>\n",
       "      <td>11.000000</td>\n",
       "      <td>11.000000</td>\n",
       "      <td>10.000000</td>\n",
       "    </tr>\n",
       "    <tr>\n",
       "      <th>mean</th>\n",
       "      <td>1.923450e+06</td>\n",
       "      <td>6.000000</td>\n",
       "      <td>2.636364</td>\n",
       "      <td>10.090909</td>\n",
       "      <td>19.000000</td>\n",
       "    </tr>\n",
       "    <tr>\n",
       "      <th>std</th>\n",
       "      <td>1.071950e+06</td>\n",
       "      <td>3.316625</td>\n",
       "      <td>1.286291</td>\n",
       "      <td>3.477198</td>\n",
       "      <td>9.030811</td>\n",
       "    </tr>\n",
       "    <tr>\n",
       "      <th>min</th>\n",
       "      <td>4.315340e+05</td>\n",
       "      <td>1.000000</td>\n",
       "      <td>1.000000</td>\n",
       "      <td>7.000000</td>\n",
       "      <td>0.000000</td>\n",
       "    </tr>\n",
       "    <tr>\n",
       "      <th>25%</th>\n",
       "      <td>8.690170e+05</td>\n",
       "      <td>3.500000</td>\n",
       "      <td>1.500000</td>\n",
       "      <td>7.500000</td>\n",
       "      <td>14.250000</td>\n",
       "    </tr>\n",
       "    <tr>\n",
       "      <th>50%</th>\n",
       "      <td>2.295261e+06</td>\n",
       "      <td>6.000000</td>\n",
       "      <td>3.000000</td>\n",
       "      <td>8.000000</td>\n",
       "      <td>19.500000</td>\n",
       "    </tr>\n",
       "    <tr>\n",
       "      <th>75%</th>\n",
       "      <td>2.544846e+06</td>\n",
       "      <td>8.500000</td>\n",
       "      <td>4.000000</td>\n",
       "      <td>13.000000</td>\n",
       "      <td>26.250000</td>\n",
       "    </tr>\n",
       "    <tr>\n",
       "      <th>max</th>\n",
       "      <td>3.367565e+06</td>\n",
       "      <td>11.000000</td>\n",
       "      <td>4.000000</td>\n",
       "      <td>16.000000</td>\n",
       "      <td>30.000000</td>\n",
       "    </tr>\n",
       "  </tbody>\n",
       "</table>\n",
       "</div>"
      ],
      "text/plain": [
       "           order_id  order_number  order_day_of_week  order_hour_of_day  \\\n",
       "count  1.100000e+01     11.000000          11.000000          11.000000   \n",
       "mean   1.923450e+06      6.000000           2.636364          10.090909   \n",
       "std    1.071950e+06      3.316625           1.286291           3.477198   \n",
       "min    4.315340e+05      1.000000           1.000000           7.000000   \n",
       "25%    8.690170e+05      3.500000           1.500000           7.500000   \n",
       "50%    2.295261e+06      6.000000           3.000000           8.000000   \n",
       "75%    2.544846e+06      8.500000           4.000000          13.000000   \n",
       "max    3.367565e+06     11.000000           4.000000          16.000000   \n",
       "\n",
       "       days_since_prior_order  \n",
       "count               10.000000  \n",
       "mean                19.000000  \n",
       "std                  9.030811  \n",
       "min                  0.000000  \n",
       "25%                 14.250000  \n",
       "50%                 19.500000  \n",
       "75%                 26.250000  \n",
       "max                 30.000000  "
      ]
     },
     "execution_count": 38,
     "metadata": {},
     "output_type": "execute_result"
    }
   ],
   "source": [
    "# Descriptive statistics for user 1\n",
    "user_1_data.describe()\n"
   ]
  },
  {
   "cell_type": "code",
   "execution_count": null,
   "id": "88fca043-febc-471f-b31e-a685080f3bb8",
   "metadata": {},
   "outputs": [],
   "source": [
    "## 10. Exporting Final Data\n"
   ]
  },
  {
   "cell_type": "code",
   "execution_count": 39,
   "id": "ffe09045-0be6-4b0b-897e-a534a8d2ce6b",
   "metadata": {},
   "outputs": [],
   "source": [
    "# Export cleaned orders data\n",
    "df_ords.to_csv(os.path.join(path, 'Prepared Data', 'orders_wrangled.csv'), index=False)"
   ]
  },
  {
   "cell_type": "code",
   "execution_count": 40,
   "id": "4f02796c-d6cd-4b01-aa4d-bf53016c6603",
   "metadata": {},
   "outputs": [],
   "source": [
    "# Copy departments and export\n",
    "df_dep_t_new = df_dep.copy()\n",
    "df_dep_t_new.to_csv(os.path.join(path, 'Prepared Data', 'departments_wrangled.csv'), index=False)"
   ]
  },
  {
   "cell_type": "code",
   "execution_count": null,
   "id": "d8618cc6-6628-4f13-a317-a95fd91de25b",
   "metadata": {},
   "outputs": [],
   "source": [
    "## Notebook Completed\n",
    "- Data imported, wrangled, and analyzed\n",
    "- Subsets created and exported\n",
    "- Code documented with comments and insights\n"
   ]
  },
  {
   "cell_type": "code",
   "execution_count": null,
   "id": "f2981532-a304-4fbb-b0c0-c5b759382445",
   "metadata": {},
   "outputs": [],
   "source": []
  }
 ],
 "metadata": {
  "kernelspec": {
   "display_name": "Python [conda env:base] *",
   "language": "python",
   "name": "conda-base-py"
  },
  "language_info": {
   "codemirror_mode": {
    "name": "ipython",
    "version": 3
   },
   "file_extension": ".py",
   "mimetype": "text/x-python",
   "name": "python",
   "nbconvert_exporter": "python",
   "pygments_lexer": "ipython3",
   "version": "3.13.5"
  }
 },
 "nbformat": 4,
 "nbformat_minor": 5
}
